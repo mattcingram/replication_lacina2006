{
 "cells": [
  {
   "cell_type": "markdown",
   "metadata": {},
   "source": [
    "# Replication with Python from Jupyter\n",
    "### Matt Ingram\n",
    "### University at Albany, SUNY\n",
    "# Replication 1: Lacina (2006)\n",
    "### __Computing Tools__: Python and markdown in JupyterHub\n",
    "### __Subject fields__: political science, international relations, civil war, political violence, conflict studies, peace science\n",
    "### __Methods topics__: data management, descriptive statistics, histograms, OLS"
   ]
  },
  {
   "cell_type": "markdown",
   "metadata": {},
   "source": [
    "# Introduction"
   ]
  },
  {
   "cell_type": "markdown",
   "metadata": {},
   "source": [
    "This notebook documents a replication of Lacina (2006) in Python from within the Jypyter platform. \n",
    "\n",
    "Python runs natively in Jupyter, so no kernel needs to be installed as was done with Stata. \n",
    "\n",
    "I am using JupyterHub and JupyterLab. JupyterHub is a server-based version of Jupyter that allows central installation of software and multiple users. In academic settings, the advantages are:\n",
    "- shared resources to avoid duplication and enhance collaboration\n",
    "- secure sign-on with instiutional IDs and passwords\n",
    "- remote computing\n",
    "- extensions to use JupyterHub as a learning management system, including assigmment management\n",
    "\n",
    "JupyterLab is an interface that mimics features of an integrated development environment (IDE), allowing multiple notebooks to be opened at once, side by side, while at the same time being able to view directory, pull-down menus, etc.\n",
    "\n",
    "For more information on Jupyter, see: http://jupyter.org/\n",
    "\n",
    "For more information on JupyterHub, see: https://github.com/jupyterhub/jupyterhub\n",
    "\n",
    "For more information on JupyterLab, see: https://github.com/jupyterlab/jupyterlab"
   ]
  },
  {
   "cell_type": "markdown",
   "metadata": {},
   "source": [
    "# Set Environment"
   ]
  },
  {
   "cell_type": "markdown",
   "metadata": {},
   "source": [
    "## Import Python modules (packages)"
   ]
  },
  {
   "cell_type": "code",
   "execution_count": 1,
   "metadata": {},
   "outputs": [],
   "source": [
    "import os\n",
    "import pandas as pd\n",
    "import io\n",
    "import requests\n",
    "import numpy as np\n",
    "import matplotlib.pyplot as plt\n",
    "from sklearn import linear_model\n",
    "import statsmodels.formula.api as sm\n",
    "import seaborn as sns\n",
    "import inspect # contains getsource() function to inspect source code"
   ]
  },
  {
   "cell_type": "markdown",
   "metadata": {},
   "source": [
    "# Set Working Directory"
   ]
  },
  {
   "cell_type": "code",
   "execution_count": 6,
   "metadata": {},
   "outputs": [
    {
     "name": "stdout",
     "output_type": "stream",
     "text": [
      "/home1/s/m/mi122167/OpenStats/replication1lacina\n",
      "/home1/s/m/mi122167/OpenStats/replication1lacina\n"
     ]
    }
   ],
   "source": [
    "print(os.getcwd()) # check current working dir\n",
    "path = '/home1/s/m/mi122167/OpenStats/replication1lacina'\n",
    "os.chdir(path)\n",
    "print(os.getcwd()) # ensure cwd changed to desired dir"
   ]
  },
  {
   "cell_type": "markdown",
   "metadata": {},
   "source": [
    "# Create sub-directories"
   ]
  },
  {
   "cell_type": "code",
   "execution_count": 12,
   "metadata": {},
   "outputs": [],
   "source": [
    "os.makedirs('./code', exist_ok=True)\n",
    "os.makedirs('./data', exist_ok=True)\n",
    "os.makedirs('./figures', exist_ok=True)\n",
    "os.makedirs('./tables', exist_ok=True)"
   ]
  },
  {
   "cell_type": "markdown",
   "metadata": {},
   "source": [
    "# Load Data"
   ]
  },
  {
   "cell_type": "code",
   "execution_count": 2,
   "metadata": {},
   "outputs": [
    {
     "data": {
      "text/html": [
       "<div>\n",
       "<style scoped>\n",
       "    .dataframe tbody tr th:only-of-type {\n",
       "        vertical-align: middle;\n",
       "    }\n",
       "\n",
       "    .dataframe tbody tr th {\n",
       "        vertical-align: top;\n",
       "    }\n",
       "\n",
       "    .dataframe thead th {\n",
       "        text-align: right;\n",
       "    }\n",
       "</style>\n",
       "<table border=\"1\" class=\"dataframe\">\n",
       "  <thead>\n",
       "    <tr style=\"text-align: right;\">\n",
       "      <th></th>\n",
       "      <th>ID</th>\n",
       "      <th>conflict_name</th>\n",
       "      <th>ccode</th>\n",
       "      <th>cname</th>\n",
       "      <th>region</th>\n",
       "      <th>secession</th>\n",
       "      <th>battledeadbest</th>\n",
       "      <th>lnbdb</th>\n",
       "      <th>battledeadlow</th>\n",
       "      <th>lnbdl</th>\n",
       "    </tr>\n",
       "  </thead>\n",
       "  <tbody>\n",
       "    <tr>\n",
       "      <th>0</th>\n",
       "      <td>1990</td>\n",
       "      <td>India (Mizoram)</td>\n",
       "      <td>750</td>\n",
       "      <td>IND</td>\n",
       "      <td>3</td>\n",
       "      <td>1</td>\n",
       "      <td>900</td>\n",
       "      <td>6.802395</td>\n",
       "      <td>900</td>\n",
       "      <td>6.802395</td>\n",
       "    </tr>\n",
       "    <tr>\n",
       "      <th>1</th>\n",
       "      <td>1500</td>\n",
       "      <td>Argentina 1955</td>\n",
       "      <td>160</td>\n",
       "      <td>ARG</td>\n",
       "      <td>2</td>\n",
       "      <td>0</td>\n",
       "      <td>900</td>\n",
       "      <td>6.802395</td>\n",
       "      <td>900</td>\n",
       "      <td>6.802395</td>\n",
       "    </tr>\n",
       "    <tr>\n",
       "      <th>2</th>\n",
       "      <td>2770</td>\n",
       "      <td>Romania 1989</td>\n",
       "      <td>360</td>\n",
       "      <td>RUM</td>\n",
       "      <td>5</td>\n",
       "      <td>0</td>\n",
       "      <td>909</td>\n",
       "      <td>6.812345</td>\n",
       "      <td>909</td>\n",
       "      <td>6.812345</td>\n",
       "    </tr>\n",
       "    <tr>\n",
       "      <th>3</th>\n",
       "      <td>2970</td>\n",
       "      <td>Croatia 1992-5</td>\n",
       "      <td>344</td>\n",
       "      <td>CRO</td>\n",
       "      <td>5</td>\n",
       "      <td>1</td>\n",
       "      <td>950</td>\n",
       "      <td>6.856462</td>\n",
       "      <td>950</td>\n",
       "      <td>6.856462</td>\n",
       "    </tr>\n",
       "    <tr>\n",
       "      <th>4</th>\n",
       "      <td>3000</td>\n",
       "      <td>Georgia (South Ossetia)</td>\n",
       "      <td>372</td>\n",
       "      <td>GRG</td>\n",
       "      <td>3</td>\n",
       "      <td>1</td>\n",
       "      <td>950</td>\n",
       "      <td>6.856462</td>\n",
       "      <td>950</td>\n",
       "      <td>6.856462</td>\n",
       "    </tr>\n",
       "  </tbody>\n",
       "</table>\n",
       "</div>"
      ],
      "text/plain": [
       "     ID            conflict_name  ccode cname  region  secession  \\\n",
       "0  1990          India (Mizoram)    750   IND       3          1   \n",
       "1  1500           Argentina 1955    160   ARG       2          0   \n",
       "2  2770             Romania 1989    360   RUM       5          0   \n",
       "3  2970           Croatia 1992-5    344   CRO       5          1   \n",
       "4  3000  Georgia (South Ossetia)    372   GRG       3          1   \n",
       "\n",
       "   battledeadbest     lnbdb  battledeadlow     lnbdl  \n",
       "0             900  6.802395            900  6.802395  \n",
       "1             900  6.802395            900  6.802395  \n",
       "2             909  6.812345            909  6.812345  \n",
       "3             950  6.856462            950  6.856462  \n",
       "4             950  6.856462            950  6.856462  "
      ]
     },
     "execution_count": 2,
     "metadata": {},
     "output_type": "execute_result"
    }
   ],
   "source": [
    "url=\"http://mattingram.net/teaching/workshops/introR/materials/Lacina_JCR_2006_replication.csv\"\n",
    "s=requests.get(url).content\n",
    "data=pd.read_csv(io.StringIO(s.decode('utf-8')))\n",
    "data.iloc[0:5, 0:10]     # .iloc allows indexing within an object, here a dataframe"
   ]
  },
  {
   "cell_type": "code",
   "execution_count": 3,
   "metadata": {},
   "outputs": [
    {
     "name": "stdout",
     "output_type": "stream",
     "text": [
      "    def parser_f(filepath_or_buffer,\n",
      "                 sep=sep,\n",
      "                 delimiter=None,\n",
      "\n",
      "                 # Column and Index Locations and Names\n",
      "                 header='infer',\n",
      "                 names=None,\n",
      "                 index_col=None,\n",
      "                 usecols=None,\n",
      "                 squeeze=False,\n",
      "                 prefix=None,\n",
      "                 mangle_dupe_cols=True,\n",
      "\n",
      "                 # General Parsing Configuration\n",
      "                 dtype=None,\n",
      "                 engine=None,\n",
      "                 converters=None,\n",
      "                 true_values=None,\n",
      "                 false_values=None,\n",
      "                 skipinitialspace=False,\n",
      "                 skiprows=None,\n",
      "                 nrows=None,\n",
      "\n",
      "                 # NA and Missing Data Handling\n",
      "                 na_values=None,\n",
      "                 keep_default_na=True,\n",
      "                 na_filter=True,\n",
      "                 verbose=False,\n",
      "                 skip_blank_lines=True,\n",
      "\n",
      "                 # Datetime Handling\n",
      "                 parse_dates=False,\n",
      "                 infer_datetime_format=False,\n",
      "                 keep_date_col=False,\n",
      "                 date_parser=None,\n",
      "                 dayfirst=False,\n",
      "\n",
      "                 # Iteration\n",
      "                 iterator=False,\n",
      "                 chunksize=None,\n",
      "\n",
      "                 # Quoting, Compression, and File Format\n",
      "                 compression='infer',\n",
      "                 thousands=None,\n",
      "                 decimal=b'.',\n",
      "                 lineterminator=None,\n",
      "                 quotechar='\"',\n",
      "                 quoting=csv.QUOTE_MINIMAL,\n",
      "                 escapechar=None,\n",
      "                 comment=None,\n",
      "                 encoding=None,\n",
      "                 dialect=None,\n",
      "                 tupleize_cols=None,\n",
      "\n",
      "                 # Error Handling\n",
      "                 error_bad_lines=True,\n",
      "                 warn_bad_lines=True,\n",
      "\n",
      "                 skipfooter=0,\n",
      "                 skip_footer=0,  # deprecated\n",
      "\n",
      "                 # Internal\n",
      "                 doublequote=True,\n",
      "                 delim_whitespace=False,\n",
      "                 as_recarray=None,\n",
      "                 compact_ints=None,\n",
      "                 use_unsigned=None,\n",
      "                 low_memory=_c_parser_defaults['low_memory'],\n",
      "                 buffer_lines=None,\n",
      "                 memory_map=False,\n",
      "                 float_precision=None):\n",
      "\n",
      "        # Alias sep -> delimiter.\n",
      "        if delimiter is None:\n",
      "            delimiter = sep\n",
      "\n",
      "        if delim_whitespace and delimiter is not default_sep:\n",
      "            raise ValueError(\"Specified a delimiter with both sep and\"\n",
      "                             \" delim_whitespace=True; you can only\"\n",
      "                             \" specify one.\")\n",
      "\n",
      "        if engine is not None:\n",
      "            engine_specified = True\n",
      "        else:\n",
      "            engine = 'c'\n",
      "            engine_specified = False\n",
      "\n",
      "        if skip_footer != 0:\n",
      "            warnings.warn(\"The 'skip_footer' argument has \"\n",
      "                          \"been deprecated and will be removed \"\n",
      "                          \"in a future version. Please use the \"\n",
      "                          \"'skipfooter' argument instead.\",\n",
      "                          FutureWarning, stacklevel=2)\n",
      "\n",
      "        kwds = dict(delimiter=delimiter,\n",
      "                    engine=engine,\n",
      "                    dialect=dialect,\n",
      "                    compression=compression,\n",
      "                    engine_specified=engine_specified,\n",
      "\n",
      "                    doublequote=doublequote,\n",
      "                    escapechar=escapechar,\n",
      "                    quotechar=quotechar,\n",
      "                    quoting=quoting,\n",
      "                    skipinitialspace=skipinitialspace,\n",
      "                    lineterminator=lineterminator,\n",
      "\n",
      "                    header=header,\n",
      "                    index_col=index_col,\n",
      "                    names=names,\n",
      "                    prefix=prefix,\n",
      "                    skiprows=skiprows,\n",
      "                    na_values=na_values,\n",
      "                    true_values=true_values,\n",
      "                    false_values=false_values,\n",
      "                    keep_default_na=keep_default_na,\n",
      "                    thousands=thousands,\n",
      "                    comment=comment,\n",
      "                    decimal=decimal,\n",
      "\n",
      "                    parse_dates=parse_dates,\n",
      "                    keep_date_col=keep_date_col,\n",
      "                    dayfirst=dayfirst,\n",
      "                    date_parser=date_parser,\n",
      "\n",
      "                    nrows=nrows,\n",
      "                    iterator=iterator,\n",
      "                    chunksize=chunksize,\n",
      "                    skipfooter=skipfooter or skip_footer,\n",
      "                    converters=converters,\n",
      "                    dtype=dtype,\n",
      "                    usecols=usecols,\n",
      "                    verbose=verbose,\n",
      "                    encoding=encoding,\n",
      "                    squeeze=squeeze,\n",
      "                    memory_map=memory_map,\n",
      "                    float_precision=float_precision,\n",
      "\n",
      "                    na_filter=na_filter,\n",
      "                    compact_ints=compact_ints,\n",
      "                    use_unsigned=use_unsigned,\n",
      "                    delim_whitespace=delim_whitespace,\n",
      "                    as_recarray=as_recarray,\n",
      "                    warn_bad_lines=warn_bad_lines,\n",
      "                    error_bad_lines=error_bad_lines,\n",
      "                    low_memory=low_memory,\n",
      "                    buffer_lines=buffer_lines,\n",
      "                    mangle_dupe_cols=mangle_dupe_cols,\n",
      "                    tupleize_cols=tupleize_cols,\n",
      "                    infer_datetime_format=infer_datetime_format,\n",
      "                    skip_blank_lines=skip_blank_lines)\n",
      "\n",
      "        return _read(filepath_or_buffer, kwds)\n",
      "\n"
     ]
    }
   ],
   "source": [
    "# examine source code of pd.read_csv()\n",
    "print(inspect.getsource(pd.read_csv))"
   ]
  },
  {
   "cell_type": "code",
   "execution_count": 4,
   "metadata": {},
   "outputs": [
    {
     "data": {
      "text/plain": [
       "114"
      ]
     },
     "execution_count": 4,
     "metadata": {},
     "output_type": "execute_result"
    }
   ],
   "source": [
    "data.shape[0]"
   ]
  },
  {
   "cell_type": "markdown",
   "metadata": {},
   "source": [
    "Notice that the observation identifier begins with 0 in Python. This is different from R and Stata.\n",
    "\n",
    "In Python, if you want the first element of any object, that element is '0'.\n",
    "In R or Stata, the first element is '1'."
   ]
  },
  {
   "cell_type": "markdown",
   "metadata": {},
   "source": [
    "# Summary Statistics"
   ]
  },
  {
   "cell_type": "code",
   "execution_count": 5,
   "metadata": {},
   "outputs": [
    {
     "data": {
      "text/html": [
       "<div>\n",
       "<style scoped>\n",
       "    .dataframe tbody tr th:only-of-type {\n",
       "        vertical-align: middle;\n",
       "    }\n",
       "\n",
       "    .dataframe tbody tr th {\n",
       "        vertical-align: top;\n",
       "    }\n",
       "\n",
       "    .dataframe thead th {\n",
       "        text-align: right;\n",
       "    }\n",
       "</style>\n",
       "<table border=\"1\" class=\"dataframe\">\n",
       "  <thead>\n",
       "    <tr style=\"text-align: right;\">\n",
       "      <th></th>\n",
       "      <th>battledeadbest</th>\n",
       "      <th>lnbdb</th>\n",
       "      <th>lnduration</th>\n",
       "      <th>lnpop</th>\n",
       "      <th>lnmilqual</th>\n",
       "      <th>lngdp</th>\n",
       "      <th>cw</th>\n",
       "      <th>lnmountain</th>\n",
       "      <th>democ</th>\n",
       "      <th>ethnicpolar</th>\n",
       "      <th>relpolar</th>\n",
       "      <th>region</th>\n",
       "    </tr>\n",
       "  </thead>\n",
       "  <tbody>\n",
       "    <tr>\n",
       "      <th>count</th>\n",
       "      <td>1.140000e+02</td>\n",
       "      <td>114.000000</td>\n",
       "      <td>114.000000</td>\n",
       "      <td>114.000000</td>\n",
       "      <td>112.000000</td>\n",
       "      <td>107.000000</td>\n",
       "      <td>114.000000</td>\n",
       "      <td>114.000000</td>\n",
       "      <td>114.000000</td>\n",
       "      <td>114.000000</td>\n",
       "      <td>114.000000</td>\n",
       "      <td>114.000000</td>\n",
       "    </tr>\n",
       "    <tr>\n",
       "      <th>mean</th>\n",
       "      <td>6.267714e+04</td>\n",
       "      <td>9.362349</td>\n",
       "      <td>1.557192</td>\n",
       "      <td>16.759923</td>\n",
       "      <td>7.949597</td>\n",
       "      <td>7.028581</td>\n",
       "      <td>0.666667</td>\n",
       "      <td>2.688314</td>\n",
       "      <td>0.175439</td>\n",
       "      <td>0.780702</td>\n",
       "      <td>0.780702</td>\n",
       "      <td>3.245614</td>\n",
       "    </tr>\n",
       "    <tr>\n",
       "      <th>std</th>\n",
       "      <td>2.308558e+05</td>\n",
       "      <td>1.711143</td>\n",
       "      <td>1.136839</td>\n",
       "      <td>1.730417</td>\n",
       "      <td>1.375276</td>\n",
       "      <td>0.972850</td>\n",
       "      <td>0.473486</td>\n",
       "      <td>1.115343</td>\n",
       "      <td>0.382021</td>\n",
       "      <td>0.415598</td>\n",
       "      <td>0.415598</td>\n",
       "      <td>1.742551</td>\n",
       "    </tr>\n",
       "    <tr>\n",
       "      <th>min</th>\n",
       "      <td>9.000000e+02</td>\n",
       "      <td>6.802395</td>\n",
       "      <td>0.000000</td>\n",
       "      <td>13.322850</td>\n",
       "      <td>0.924259</td>\n",
       "      <td>3.912023</td>\n",
       "      <td>0.000000</td>\n",
       "      <td>0.000000</td>\n",
       "      <td>0.000000</td>\n",
       "      <td>0.000000</td>\n",
       "      <td>0.000000</td>\n",
       "      <td>1.000000</td>\n",
       "    </tr>\n",
       "    <tr>\n",
       "      <th>25%</th>\n",
       "      <td>3.196750e+03</td>\n",
       "      <td>8.069801</td>\n",
       "      <td>0.693147</td>\n",
       "      <td>15.530885</td>\n",
       "      <td>7.039719</td>\n",
       "      <td>6.341176</td>\n",
       "      <td>0.000000</td>\n",
       "      <td>2.116256</td>\n",
       "      <td>0.000000</td>\n",
       "      <td>1.000000</td>\n",
       "      <td>1.000000</td>\n",
       "      <td>2.000000</td>\n",
       "    </tr>\n",
       "    <tr>\n",
       "      <th>50%</th>\n",
       "      <td>9.525000e+03</td>\n",
       "      <td>9.160430</td>\n",
       "      <td>1.386294</td>\n",
       "      <td>16.642145</td>\n",
       "      <td>8.084830</td>\n",
       "      <td>7.074963</td>\n",
       "      <td>1.000000</td>\n",
       "      <td>2.631889</td>\n",
       "      <td>0.000000</td>\n",
       "      <td>1.000000</td>\n",
       "      <td>1.000000</td>\n",
       "      <td>3.000000</td>\n",
       "    </tr>\n",
       "    <tr>\n",
       "      <th>75%</th>\n",
       "      <td>4.047500e+04</td>\n",
       "      <td>10.607800</td>\n",
       "      <td>2.463154</td>\n",
       "      <td>17.768860</td>\n",
       "      <td>8.741252</td>\n",
       "      <td>7.754624</td>\n",
       "      <td>1.000000</td>\n",
       "      <td>3.646096</td>\n",
       "      <td>0.000000</td>\n",
       "      <td>1.000000</td>\n",
       "      <td>1.000000</td>\n",
       "      <td>4.750000</td>\n",
       "    </tr>\n",
       "    <tr>\n",
       "      <th>max</th>\n",
       "      <td>2.097705e+06</td>\n",
       "      <td>14.556350</td>\n",
       "      <td>4.007333</td>\n",
       "      <td>20.650010</td>\n",
       "      <td>11.121360</td>\n",
       "      <td>9.052165</td>\n",
       "      <td>1.000000</td>\n",
       "      <td>4.406719</td>\n",
       "      <td>1.000000</td>\n",
       "      <td>1.000000</td>\n",
       "      <td>1.000000</td>\n",
       "      <td>6.000000</td>\n",
       "    </tr>\n",
       "  </tbody>\n",
       "</table>\n",
       "</div>"
      ],
      "text/plain": [
       "       battledeadbest       lnbdb  lnduration       lnpop   lnmilqual  \\\n",
       "count    1.140000e+02  114.000000  114.000000  114.000000  112.000000   \n",
       "mean     6.267714e+04    9.362349    1.557192   16.759923    7.949597   \n",
       "std      2.308558e+05    1.711143    1.136839    1.730417    1.375276   \n",
       "min      9.000000e+02    6.802395    0.000000   13.322850    0.924259   \n",
       "25%      3.196750e+03    8.069801    0.693147   15.530885    7.039719   \n",
       "50%      9.525000e+03    9.160430    1.386294   16.642145    8.084830   \n",
       "75%      4.047500e+04   10.607800    2.463154   17.768860    8.741252   \n",
       "max      2.097705e+06   14.556350    4.007333   20.650010   11.121360   \n",
       "\n",
       "            lngdp          cw  lnmountain       democ  ethnicpolar  \\\n",
       "count  107.000000  114.000000  114.000000  114.000000   114.000000   \n",
       "mean     7.028581    0.666667    2.688314    0.175439     0.780702   \n",
       "std      0.972850    0.473486    1.115343    0.382021     0.415598   \n",
       "min      3.912023    0.000000    0.000000    0.000000     0.000000   \n",
       "25%      6.341176    0.000000    2.116256    0.000000     1.000000   \n",
       "50%      7.074963    1.000000    2.631889    0.000000     1.000000   \n",
       "75%      7.754624    1.000000    3.646096    0.000000     1.000000   \n",
       "max      9.052165    1.000000    4.406719    1.000000     1.000000   \n",
       "\n",
       "         relpolar      region  \n",
       "count  114.000000  114.000000  \n",
       "mean     0.780702    3.245614  \n",
       "std      0.415598    1.742551  \n",
       "min      0.000000    1.000000  \n",
       "25%      1.000000    2.000000  \n",
       "50%      1.000000    3.000000  \n",
       "75%      1.000000    4.750000  \n",
       "max      1.000000    6.000000  "
      ]
     },
     "execution_count": 5,
     "metadata": {},
     "output_type": "execute_result"
    }
   ],
   "source": [
    "data = data.loc[:,['battledeadbest', 'lnbdb', 'lnduration', 'lnpop', 'lnmilqual', 'lngdp', \n",
    "                   'cw', 'lnmountain', 'democ', 'ethnicpolar', 'relpolar', 'region']]\n",
    "data.describe()"
   ]
  },
  {
   "cell_type": "markdown",
   "metadata": {},
   "source": [
    "# Histograms of outcome of interest"
   ]
  },
  {
   "cell_type": "code",
   "execution_count": 6,
   "metadata": {},
   "outputs": [
    {
     "data": {
      "image/png": "[encoded data removed]",
      "text/plain": [
       "<Figure size 432x288 with 1 Axes>"
      ]
     },
     "metadata": {},
     "output_type": "display_data"
    }
   ],
   "source": [
    "data['battledeadbest'].hist(grid=True, bins=20, rwidth=0.9,\n",
    "                   color='#607c8e')\n",
    "plt.show()"
   ]
  },
  {
   "cell_type": "code",
   "execution_count": 7,
   "metadata": {},
   "outputs": [
    {
     "data": {
      "image/png": "[encoded data removed]",
      "text/plain": [
       "<Figure size 432x288 with 1 Axes>"
      ]
     },
     "metadata": {},
     "output_type": "display_data"
    }
   ],
   "source": [
    "data['lnbdb'].hist(grid=True, bins=int(data.shape[0]/10), rwidth=0.9,\n",
    "                   color='#607c8e')\n",
    "plt.show()"
   ]
  },
  {
   "cell_type": "markdown",
   "metadata": {},
   "source": [
    "# Histogram with seaborn module"
   ]
  },
  {
   "cell_type": "code",
   "execution_count": 8,
   "metadata": {},
   "outputs": [
    {
     "data": {
      "text/plain": [
       "<matplotlib.axes._subplots.AxesSubplot at 0x7f5201f07ba8>"
      ]
     },
     "execution_count": 8,
     "metadata": {},
     "output_type": "execute_result"
    },
    {
     "data": {
      "image/png": "[encoded data removed]",
      "text/plain": [
       "<Figure size 432x288 with 1 Axes>"
      ]
     },
     "metadata": {},
     "output_type": "display_data"
    }
   ],
   "source": [
    "sns.distplot(data.battledeadbest, hist=True, kde=True, \n",
    "             bins=int(data.shape[0]/10), color = 'darkblue', \n",
    "             hist_kws={'edgecolor':'black'}, \n",
    "             kde_kws={'linewidth': 4})"
   ]
  },
  {
   "cell_type": "code",
   "execution_count": 9,
   "metadata": {},
   "outputs": [
    {
     "data": {
      "text/plain": [
       "<matplotlib.axes._subplots.AxesSubplot at 0x7f5201e73278>"
      ]
     },
     "execution_count": 9,
     "metadata": {},
     "output_type": "execute_result"
    },
    {
     "data": {
      "image/png": "[encoded data removed]",
      "text/plain": [
       "<Figure size 432x288 with 1 Axes>"
      ]
     },
     "metadata": {},
     "output_type": "display_data"
    }
   ],
   "source": [
    "sns.distplot(data.lnbdb, hist=True, kde=True, \n",
    "             bins=int(data.shape[0]/10), color = 'darkblue', \n",
    "             hist_kws={'edgecolor':'black'},\n",
    "             kde_kws={'linewidth': 4})"
   ]
  },
  {
   "cell_type": "markdown",
   "metadata": {},
   "source": [
    "# Linear Regression"
   ]
  },
  {
   "cell_type": "markdown",
   "metadata": {},
   "source": [
    "## OLS with Statsmodels package"
   ]
  },
  {
   "cell_type": "markdown",
   "metadata": {},
   "source": [
    "This is Table 2 from original paper.\n",
    "\n",
    "Model takes the form of $y = \\beta_0 + \\beta_1X_1 + \\beta_2X_2 + \\ldots + \\epsilon$.\n",
    "\n",
    "In matrix notation, $y = X\\beta + \\epsilon$, where y is a vector containing the outcome of interest (lnbdb), $X$ is a matrix of predictors (model matrix), and $\\epsilon$ is the error term."
   ]
  },
  {
   "cell_type": "code",
   "execution_count": 10,
   "metadata": {},
   "outputs": [
    {
     "data": {
      "text/html": [
       "<table class=\"simpletable\">\n",
       "<caption>OLS Regression Results</caption>\n",
       "<tr>\n",
       "  <th>Dep. Variable:</th>          <td>lnbdb</td>      <th>  R-squared:         </th> <td>   0.449</td>\n",
       "</tr>\n",
       "<tr>\n",
       "  <th>Model:</th>                   <td>OLS</td>       <th>  Adj. R-squared:    </th> <td>   0.396</td>\n",
       "</tr>\n",
       "<tr>\n",
       "  <th>Method:</th>             <td>Least Squares</td>  <th>  F-statistic:       </th> <td>   8.589</td>\n",
       "</tr>\n",
       "<tr>\n",
       "  <th>Date:</th>             <td>Thu, 01 Nov 2018</td> <th>  Prob (F-statistic):</th> <td>2.58e-09</td>\n",
       "</tr>\n",
       "<tr>\n",
       "  <th>Time:</th>                 <td>15:26:56</td>     <th>  Log-Likelihood:    </th> <td> -173.20</td>\n",
       "</tr>\n",
       "<tr>\n",
       "  <th>No. Observations:</th>      <td>   105</td>      <th>  AIC:               </th> <td>   366.4</td>\n",
       "</tr>\n",
       "<tr>\n",
       "  <th>Df Residuals:</th>          <td>    95</td>      <th>  BIC:               </th> <td>   392.9</td>\n",
       "</tr>\n",
       "<tr>\n",
       "  <th>Df Model:</th>              <td>     9</td>      <th>                     </th>     <td> </td>   \n",
       "</tr>\n",
       "<tr>\n",
       "  <th>Covariance Type:</th>      <td>nonrobust</td>    <th>                     </th>     <td> </td>   \n",
       "</tr>\n",
       "</table>\n",
       "<table class=\"simpletable\">\n",
       "<tr>\n",
       "       <td></td>          <th>coef</th>     <th>std err</th>      <th>t</th>      <th>P>|t|</th>  <th>[0.025</th>    <th>0.975]</th>  \n",
       "</tr>\n",
       "<tr>\n",
       "  <th>Intercept</th>   <td>    9.5426</td> <td>    1.975</td> <td>    4.831</td> <td> 0.000</td> <td>    5.621</td> <td>   13.464</td>\n",
       "</tr>\n",
       "<tr>\n",
       "  <th>lnduration</th>  <td>    0.8072</td> <td>    0.119</td> <td>    6.778</td> <td> 0.000</td> <td>    0.571</td> <td>    1.044</td>\n",
       "</tr>\n",
       "<tr>\n",
       "  <th>lnpop</th>       <td>   -0.0444</td> <td>    0.081</td> <td>   -0.551</td> <td> 0.583</td> <td>   -0.205</td> <td>    0.116</td>\n",
       "</tr>\n",
       "<tr>\n",
       "  <th>lnmilqual</th>   <td>    0.1005</td> <td>    0.120</td> <td>    0.841</td> <td> 0.403</td> <td>   -0.137</td> <td>    0.338</td>\n",
       "</tr>\n",
       "<tr>\n",
       "  <th>lngdp</th>       <td>   -0.1908</td> <td>    0.175</td> <td>   -1.089</td> <td> 0.279</td> <td>   -0.539</td> <td>    0.157</td>\n",
       "</tr>\n",
       "<tr>\n",
       "  <th>cw</th>          <td>    0.6666</td> <td>    0.313</td> <td>    2.128</td> <td> 0.036</td> <td>    0.045</td> <td>    1.289</td>\n",
       "</tr>\n",
       "<tr>\n",
       "  <th>lnmountain</th>  <td>    0.1012</td> <td>    0.120</td> <td>    0.845</td> <td> 0.400</td> <td>   -0.137</td> <td>    0.339</td>\n",
       "</tr>\n",
       "<tr>\n",
       "  <th>democ</th>       <td>   -0.8706</td> <td>    0.358</td> <td>   -2.433</td> <td> 0.017</td> <td>   -1.581</td> <td>   -0.160</td>\n",
       "</tr>\n",
       "<tr>\n",
       "  <th>ethnicpolar</th> <td>   -0.9805</td> <td>    0.339</td> <td>   -2.894</td> <td> 0.005</td> <td>   -1.653</td> <td>   -0.308</td>\n",
       "</tr>\n",
       "<tr>\n",
       "  <th>relpolar</th>    <td>    0.1187</td> <td>    0.323</td> <td>    0.367</td> <td> 0.714</td> <td>   -0.523</td> <td>    0.760</td>\n",
       "</tr>\n",
       "</table>\n",
       "<table class=\"simpletable\">\n",
       "<tr>\n",
       "  <th>Omnibus:</th>       <td> 3.723</td> <th>  Durbin-Watson:     </th> <td>   0.987</td>\n",
       "</tr>\n",
       "<tr>\n",
       "  <th>Prob(Omnibus):</th> <td> 0.155</td> <th>  Jarque-Bera (JB):  </th> <td>   3.676</td>\n",
       "</tr>\n",
       "<tr>\n",
       "  <th>Skew:</th>          <td> 0.451</td> <th>  Prob(JB):          </th> <td>   0.159</td>\n",
       "</tr>\n",
       "<tr>\n",
       "  <th>Kurtosis:</th>      <td> 2.837</td> <th>  Cond. No.          </th> <td>    312.</td>\n",
       "</tr>\n",
       "</table><br/><br/>Warnings:<br/>[1] Standard Errors assume that the covariance matrix of the errors is correctly specified."
      ],
      "text/plain": [
       "<class 'statsmodels.iolib.summary.Summary'>\n",
       "\"\"\"\n",
       "                            OLS Regression Results                            \n",
       "==============================================================================\n",
       "Dep. Variable:                  lnbdb   R-squared:                       0.449\n",
       "Model:                            OLS   Adj. R-squared:                  0.396\n",
       "Method:                 Least Squares   F-statistic:                     8.589\n",
       "Date:                Thu, 01 Nov 2018   Prob (F-statistic):           2.58e-09\n",
       "Time:                        15:26:56   Log-Likelihood:                -173.20\n",
       "No. Observations:                 105   AIC:                             366.4\n",
       "Df Residuals:                      95   BIC:                             392.9\n",
       "Df Model:                           9                                         \n",
       "Covariance Type:            nonrobust                                         \n",
       "===============================================================================\n",
       "                  coef    std err          t      P>|t|      [0.025      0.975]\n",
       "-------------------------------------------------------------------------------\n",
       "Intercept       9.5426      1.975      4.831      0.000       5.621      13.464\n",
       "lnduration      0.8072      0.119      6.778      0.000       0.571       1.044\n",
       "lnpop          -0.0444      0.081     -0.551      0.583      -0.205       0.116\n",
       "lnmilqual       0.1005      0.120      0.841      0.403      -0.137       0.338\n",
       "lngdp          -0.1908      0.175     -1.089      0.279      -0.539       0.157\n",
       "cw              0.6666      0.313      2.128      0.036       0.045       1.289\n",
       "lnmountain      0.1012      0.120      0.845      0.400      -0.137       0.339\n",
       "democ          -0.8706      0.358     -2.433      0.017      -1.581      -0.160\n",
       "ethnicpolar    -0.9805      0.339     -2.894      0.005      -1.653      -0.308\n",
       "relpolar        0.1187      0.323      0.367      0.714      -0.523       0.760\n",
       "==============================================================================\n",
       "Omnibus:                        3.723   Durbin-Watson:                   0.987\n",
       "Prob(Omnibus):                  0.155   Jarque-Bera (JB):                3.676\n",
       "Skew:                           0.451   Prob(JB):                        0.159\n",
       "Kurtosis:                       2.837   Cond. No.                         312.\n",
       "==============================================================================\n",
       "\n",
       "Warnings:\n",
       "[1] Standard Errors assume that the covariance matrix of the errors is correctly specified.\n",
       "\"\"\""
      ]
     },
     "execution_count": 10,
     "metadata": {},
     "output_type": "execute_result"
    }
   ],
   "source": [
    "m1 = sm.ols(formula=\"lnbdb ~ lnduration + lnpop + lnmilqual + lngdp + cw + lnmountain + democ + ethnicpolar + relpolar\", \n",
    "                data=data).fit()\n",
    "m2 = sm.ols(formula=\"lnbdb ~ lnduration + cw + democ + ethnicpolar\", \n",
    "                data=data).fit()\n",
    "m1.summary()"
   ]
  },
  {
   "cell_type": "code",
   "execution_count": 11,
   "metadata": {},
   "outputs": [
    {
     "data": {
      "text/html": [
       "<table class=\"simpletable\">\n",
       "<caption>OLS Regression Results</caption>\n",
       "<tr>\n",
       "  <th>Dep. Variable:</th>          <td>lnbdb</td>      <th>  R-squared:         </th> <td>   0.447</td>\n",
       "</tr>\n",
       "<tr>\n",
       "  <th>Model:</th>                   <td>OLS</td>       <th>  Adj. R-squared:    </th> <td>   0.427</td>\n",
       "</tr>\n",
       "<tr>\n",
       "  <th>Method:</th>             <td>Least Squares</td>  <th>  F-statistic:       </th> <td>   22.03</td>\n",
       "</tr>\n",
       "<tr>\n",
       "  <th>Date:</th>             <td>Thu, 01 Nov 2018</td> <th>  Prob (F-statistic):</th> <td>2.42e-13</td>\n",
       "</tr>\n",
       "<tr>\n",
       "  <th>Time:</th>                 <td>15:26:56</td>     <th>  Log-Likelihood:    </th> <td> -188.73</td>\n",
       "</tr>\n",
       "<tr>\n",
       "  <th>No. Observations:</th>      <td>   114</td>      <th>  AIC:               </th> <td>   387.5</td>\n",
       "</tr>\n",
       "<tr>\n",
       "  <th>Df Residuals:</th>          <td>   109</td>      <th>  BIC:               </th> <td>   401.1</td>\n",
       "</tr>\n",
       "<tr>\n",
       "  <th>Df Model:</th>              <td>     4</td>      <th>                     </th>     <td> </td>   \n",
       "</tr>\n",
       "<tr>\n",
       "  <th>Covariance Type:</th>      <td>nonrobust</td>    <th>                     </th>     <td> </td>   \n",
       "</tr>\n",
       "</table>\n",
       "<table class=\"simpletable\">\n",
       "<tr>\n",
       "       <td></td>          <th>coef</th>     <th>std err</th>      <th>t</th>      <th>P>|t|</th>  <th>[0.025</th>    <th>0.975]</th>  \n",
       "</tr>\n",
       "<tr>\n",
       "  <th>Intercept</th>   <td>    8.5965</td> <td>    0.347</td> <td>   24.763</td> <td> 0.000</td> <td>    7.908</td> <td>    9.285</td>\n",
       "</tr>\n",
       "<tr>\n",
       "  <th>lnduration</th>  <td>    0.8572</td> <td>    0.111</td> <td>    7.751</td> <td> 0.000</td> <td>    0.638</td> <td>    1.076</td>\n",
       "</tr>\n",
       "<tr>\n",
       "  <th>cw</th>          <td>    0.5908</td> <td>    0.269</td> <td>    2.199</td> <td> 0.030</td> <td>    0.058</td> <td>    1.123</td>\n",
       "</tr>\n",
       "<tr>\n",
       "  <th>democ</th>       <td>   -0.9122</td> <td>    0.326</td> <td>   -2.795</td> <td> 0.006</td> <td>   -1.559</td> <td>   -0.265</td>\n",
       "</tr>\n",
       "<tr>\n",
       "  <th>ethnicpolar</th> <td>   -1.0283</td> <td>    0.303</td> <td>   -3.389</td> <td> 0.001</td> <td>   -1.630</td> <td>   -0.427</td>\n",
       "</tr>\n",
       "</table>\n",
       "<table class=\"simpletable\">\n",
       "<tr>\n",
       "  <th>Omnibus:</th>       <td> 3.192</td> <th>  Durbin-Watson:     </th> <td>   1.000</td>\n",
       "</tr>\n",
       "<tr>\n",
       "  <th>Prob(Omnibus):</th> <td> 0.203</td> <th>  Jarque-Bera (JB):  </th> <td>   3.045</td>\n",
       "</tr>\n",
       "<tr>\n",
       "  <th>Skew:</th>          <td> 0.399</td> <th>  Prob(JB):          </th> <td>   0.218</td>\n",
       "</tr>\n",
       "<tr>\n",
       "  <th>Kurtosis:</th>      <td> 2.928</td> <th>  Cond. No.          </th> <td>    8.59</td>\n",
       "</tr>\n",
       "</table><br/><br/>Warnings:<br/>[1] Standard Errors assume that the covariance matrix of the errors is correctly specified."
      ],
      "text/plain": [
       "<class 'statsmodels.iolib.summary.Summary'>\n",
       "\"\"\"\n",
       "                            OLS Regression Results                            \n",
       "==============================================================================\n",
       "Dep. Variable:                  lnbdb   R-squared:                       0.447\n",
       "Model:                            OLS   Adj. R-squared:                  0.427\n",
       "Method:                 Least Squares   F-statistic:                     22.03\n",
       "Date:                Thu, 01 Nov 2018   Prob (F-statistic):           2.42e-13\n",
       "Time:                        15:26:56   Log-Likelihood:                -188.73\n",
       "No. Observations:                 114   AIC:                             387.5\n",
       "Df Residuals:                     109   BIC:                             401.1\n",
       "Df Model:                           4                                         \n",
       "Covariance Type:            nonrobust                                         \n",
       "===============================================================================\n",
       "                  coef    std err          t      P>|t|      [0.025      0.975]\n",
       "-------------------------------------------------------------------------------\n",
       "Intercept       8.5965      0.347     24.763      0.000       7.908       9.285\n",
       "lnduration      0.8572      0.111      7.751      0.000       0.638       1.076\n",
       "cw              0.5908      0.269      2.199      0.030       0.058       1.123\n",
       "democ          -0.9122      0.326     -2.795      0.006      -1.559      -0.265\n",
       "ethnicpolar    -1.0283      0.303     -3.389      0.001      -1.630      -0.427\n",
       "==============================================================================\n",
       "Omnibus:                        3.192   Durbin-Watson:                   1.000\n",
       "Prob(Omnibus):                  0.203   Jarque-Bera (JB):                3.045\n",
       "Skew:                           0.399   Prob(JB):                        0.218\n",
       "Kurtosis:                       2.928   Cond. No.                         8.59\n",
       "==============================================================================\n",
       "\n",
       "Warnings:\n",
       "[1] Standard Errors assume that the covariance matrix of the errors is correctly specified.\n",
       "\"\"\""
      ]
     },
     "execution_count": 11,
     "metadata": {},
     "output_type": "execute_result"
    }
   ],
   "source": [
    "m2.summary()"
   ]
  },
  {
   "cell_type": "markdown",
   "metadata": {},
   "source": [
    "# OLS with Sklearn package"
   ]
  },
  {
   "cell_type": "code",
   "execution_count": 12,
   "metadata": {},
   "outputs": [
    {
     "data": {
      "text/html": [
       "<div>\n",
       "<style scoped>\n",
       "    .dataframe tbody tr th:only-of-type {\n",
       "        vertical-align: middle;\n",
       "    }\n",
       "\n",
       "    .dataframe tbody tr th {\n",
       "        vertical-align: top;\n",
       "    }\n",
       "\n",
       "    .dataframe thead th {\n",
       "        text-align: right;\n",
       "    }\n",
       "</style>\n",
       "<table border=\"1\" class=\"dataframe\">\n",
       "  <thead>\n",
       "    <tr style=\"text-align: right;\">\n",
       "      <th></th>\n",
       "      <th>lnbdb</th>\n",
       "    </tr>\n",
       "  </thead>\n",
       "  <tbody>\n",
       "    <tr>\n",
       "      <th>0</th>\n",
       "      <td>6.802395</td>\n",
       "    </tr>\n",
       "    <tr>\n",
       "      <th>1</th>\n",
       "      <td>6.802395</td>\n",
       "    </tr>\n",
       "    <tr>\n",
       "      <th>2</th>\n",
       "      <td>6.812345</td>\n",
       "    </tr>\n",
       "    <tr>\n",
       "      <th>3</th>\n",
       "      <td>6.856462</td>\n",
       "    </tr>\n",
       "    <tr>\n",
       "      <th>4</th>\n",
       "      <td>6.856462</td>\n",
       "    </tr>\n",
       "  </tbody>\n",
       "</table>\n",
       "</div>"
      ],
      "text/plain": [
       "      lnbdb\n",
       "0  6.802395\n",
       "1  6.802395\n",
       "2  6.812345\n",
       "3  6.856462\n",
       "4  6.856462"
      ]
     },
     "execution_count": 12,
     "metadata": {},
     "output_type": "execute_result"
    }
   ],
   "source": [
    "m1 = linear_model.LinearRegression()\n",
    "X = data.loc[:,['lnduration', 'lnpop', 'lnmilqual', 'lngdp', 'cw', 'lnmountain', 'democ', 'ethnicpolar', 'relpolar']]\n",
    "X.head()\n",
    "y = data.loc[:,['lnbdb']]\n",
    "y.head()\n",
    "# same as data.lnbdb[:5]"
   ]
  },
  {
   "cell_type": "code",
   "execution_count": 13,
   "metadata": {},
   "outputs": [],
   "source": [
    "np.any(np.isnan(X))\n",
    "# returns true\n",
    "data = data.dropna()\n",
    "X = data.loc[:,['lnduration', 'lnpop', 'lnmilqual', 'lngdp', 'cw', 'lnmountain', 'democ', 'ethnicpolar', 'relpolar']]\n",
    "y = data.loc[:,['lnbdb']]"
   ]
  },
  {
   "cell_type": "code",
   "execution_count": 14,
   "metadata": {},
   "outputs": [
    {
     "data": {
      "text/plain": [
       "LinearRegression(copy_X=True, fit_intercept=True, n_jobs=1, normalize=False)"
      ]
     },
     "execution_count": 14,
     "metadata": {},
     "output_type": "execute_result"
    }
   ],
   "source": [
    "m1 = linear_model.LinearRegression()\n",
    "m1.fit(X, y)"
   ]
  },
  {
   "cell_type": "code",
   "execution_count": 15,
   "metadata": {},
   "outputs": [
    {
     "name": "stdout",
     "output_type": "stream",
     "text": [
      "[9.54259027]\n",
      "[[ 0.807215   -0.04444595  0.10053529 -0.19076226  0.66663469  0.10118106\n",
      "  -0.87060374 -0.98045929  0.1187261 ]]\n"
     ]
    }
   ],
   "source": [
    "print(m1.intercept_)\n",
    "print(m1.coef_)"
   ]
  },
  {
   "cell_type": "code",
   "execution_count": 16,
   "metadata": {},
   "outputs": [
    {
     "data": {
      "text/html": [
       "<div>\n",
       "<style scoped>\n",
       "    .dataframe tbody tr th:only-of-type {\n",
       "        vertical-align: middle;\n",
       "    }\n",
       "\n",
       "    .dataframe tbody tr th {\n",
       "        vertical-align: top;\n",
       "    }\n",
       "\n",
       "    .dataframe thead th {\n",
       "        text-align: right;\n",
       "    }\n",
       "</style>\n",
       "<table border=\"1\" class=\"dataframe\">\n",
       "  <thead>\n",
       "    <tr style=\"text-align: right;\">\n",
       "      <th></th>\n",
       "      <th>predictors</th>\n",
       "      <th>coefficients</th>\n",
       "    </tr>\n",
       "  </thead>\n",
       "  <tbody>\n",
       "    <tr>\n",
       "      <th>0</th>\n",
       "      <td>lnduration</td>\n",
       "      <td>[0.8072149997024606]</td>\n",
       "    </tr>\n",
       "    <tr>\n",
       "      <th>1</th>\n",
       "      <td>lnpop</td>\n",
       "      <td>[-0.044445949534231324]</td>\n",
       "    </tr>\n",
       "    <tr>\n",
       "      <th>2</th>\n",
       "      <td>lnmilqual</td>\n",
       "      <td>[0.10053528997739818]</td>\n",
       "    </tr>\n",
       "    <tr>\n",
       "      <th>3</th>\n",
       "      <td>lngdp</td>\n",
       "      <td>[-0.1907622610196415]</td>\n",
       "    </tr>\n",
       "    <tr>\n",
       "      <th>4</th>\n",
       "      <td>cw</td>\n",
       "      <td>[0.6666346895099091]</td>\n",
       "    </tr>\n",
       "    <tr>\n",
       "      <th>5</th>\n",
       "      <td>lnmountain</td>\n",
       "      <td>[0.10118105893268285]</td>\n",
       "    </tr>\n",
       "    <tr>\n",
       "      <th>6</th>\n",
       "      <td>democ</td>\n",
       "      <td>[-0.8706037365715495]</td>\n",
       "    </tr>\n",
       "    <tr>\n",
       "      <th>7</th>\n",
       "      <td>ethnicpolar</td>\n",
       "      <td>[-0.9804592886919066]</td>\n",
       "    </tr>\n",
       "    <tr>\n",
       "      <th>8</th>\n",
       "      <td>relpolar</td>\n",
       "      <td>[0.11872610275010292]</td>\n",
       "    </tr>\n",
       "  </tbody>\n",
       "</table>\n",
       "</div>"
      ],
      "text/plain": [
       "    predictors             coefficients\n",
       "0   lnduration     [0.8072149997024606]\n",
       "1        lnpop  [-0.044445949534231324]\n",
       "2    lnmilqual    [0.10053528997739818]\n",
       "3        lngdp    [-0.1907622610196415]\n",
       "4           cw     [0.6666346895099091]\n",
       "5   lnmountain    [0.10118105893268285]\n",
       "6        democ    [-0.8706037365715495]\n",
       "7  ethnicpolar    [-0.9804592886919066]\n",
       "8     relpolar    [0.11872610275010292]"
      ]
     },
     "execution_count": 16,
     "metadata": {},
     "output_type": "execute_result"
    }
   ],
   "source": [
    "pd.DataFrame(list(zip(X.columns, np.transpose(m1.coef_))), columns = ['predictors', 'coefficients'])"
   ]
  },
  {
   "cell_type": "code",
   "execution_count": 17,
   "metadata": {},
   "outputs": [
    {
     "data": {
      "image/png": "[encoded data removed]",
      "text/plain": [
       "<Figure size 432x288 with 1 Axes>"
      ]
     },
     "metadata": {},
     "output_type": "display_data"
    }
   ],
   "source": [
    "plt.scatter(data.lnduration, data.lnbdb, color='blue')\n",
    "yhat = m1.predict(X)\n",
    "plt.scatter(data.lnduration, yhat, color='red')\n",
    "plt.show()"
   ]
  },
  {
   "cell_type": "code",
   "execution_count": 18,
   "metadata": {},
   "outputs": [
    {
     "data": {
      "image/png": "[encoded data removed]",
      "text/plain": [
       "<Figure size 402.375x360 with 1 Axes>"
      ]
     },
     "metadata": {},
     "output_type": "display_data"
    }
   ],
   "source": [
    "sns.lmplot(x=\"lnduration\", y=\"lnbdb\", hue=\"democ\", data=data);"
   ]
  },
  {
   "cell_type": "code",
   "execution_count": 19,
   "metadata": {},
   "outputs": [
    {
     "data": {
      "image/png": "[encoded data removed]",
      "text/plain": [
       "<Figure size 402.375x360 with 1 Axes>"
      ]
     },
     "metadata": {},
     "output_type": "display_data"
    }
   ],
   "source": [
    "sns.lmplot(x=\"lnduration\", y=\"lnbdb\", hue=\"region\", data=data);"
   ]
  },
  {
   "cell_type": "code",
   "execution_count": 20,
   "metadata": {},
   "outputs": [
    {
     "data": {
      "text/plain": [
       "<seaborn.axisgrid.FacetGrid at 0x7f5201d0f5c0>"
      ]
     },
     "execution_count": 20,
     "metadata": {},
     "output_type": "execute_result"
    },
    {
     "data": {
      "image/png": "[encoded data removed]",
      "text/plain": [
       "<Figure size 288x432 with 6 Axes>"
      ]
     },
     "metadata": {},
     "output_type": "display_data"
    }
   ],
   "source": [
    "grid = sns.FacetGrid(data, col=\"region\", hue=\"region\", palette=\"tab20c\",\n",
    "                     col_wrap=2, height=2)\n",
    "grid.map(plt.scatter, \"lnduration\", \"lnbdb\", marker=\"o\")"
   ]
  },
  {
   "cell_type": "code",
   "execution_count": null,
   "metadata": {},
   "outputs": [],
   "source": []
  },
  {
   "cell_type": "code",
   "execution_count": null,
   "metadata": {},
   "outputs": [],
   "source": []
  }
 ],
 "metadata": {
  "kernelspec": {
   "display_name": "Python 3",
   "language": "python",
   "name": "python3"
  },
  "language_info": {
   "codemirror_mode": {
    "name": "ipython",
    "version": 3
   },
   "file_extension": ".py",
   "mimetype": "text/x-python",
   "name": "python",
   "nbconvert_exporter": "python",
   "pygments_lexer": "ipython3",
   "version": "3.4.9"
  }
 },
 "nbformat": 4,
 "nbformat_minor": 2
}
